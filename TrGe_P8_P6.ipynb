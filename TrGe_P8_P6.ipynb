{
 "cells": [
  {
   "cell_type": "markdown",
   "id": "bf887661",
   "metadata": {},
   "source": [
    "# Gruppe A – BS-Seq: P8 vs. P6\n",
    "\n",
    "## Table of Contents (answers)\n",
    "- [Answer Q1: Methylraw](#answer-q1-methylraw)\n",
    "- [Answer Q2: Plots discussion](#answer-q2-plots-discussion)\n",
    "- [Answer Q3: Filter step](#answer-q3-filter-step)\n",
    "- [Answer Q4: Downstream analysis](#answer-q4-downstream-analysis)\n",
    "- [Answer Q5: Further filtering](#answer-q5-further-filtering)\n",
    "- [Answer Q6: Volcano plot](#answer-q6-volcano-plot)\n"
   ]
  },
  {
   "cell_type": "markdown",
   "id": "e9bfdfe9",
   "metadata": {},
   "source": [
    "<code style=\"background:steelblue\">                                                                                                              </code>\n",
    "\n",
    "## Introduction\n",
    "\n",
    "Bisulfite (BS) sequencing of DNA has become the gold standard for analysis of DNA methylation due to the potential whole-genome coverage and single-base resolution.\n",
    "\n",
    "There are different protocols available to assess DNA methylation using NGS. The easiest way is to add the bisulfite reaction to the sequencing workflow and do Whole-Genome Bisulfite Sequencing (WGBS). However, this requires sufficient read depths to reliably determine methylation status. When working on an organism with a large genome size, this can lead to high costs for sequencing. \n",
    "The benefits of WGBS are \n",
    "* it typically reaches a coverage >90% of the CpGs in the human genome in unbiased representation. \n",
    "* identification of non-CG methylation \n",
    "* identification of partially methylated domains, low methylated regions at distal regulatory elements and DNA methylation valleys in embryonic stem cells. \n",
    "\n",
    "Despite its advantages, WGBS remains the most expensive technique and is usually not applied to a large number of samples. As an alternative, one could focus the detection of DNA methylation to a specific subset of the genome, thereby reducing the data volume of the experiment and subsequently the cost. \n",
    "\n",
    "One popular approach to this is **Reduced Representation Bisulfite Sequencing (RRBS)**. The fundamental idea of RRBS is to get a “reduced representation” of the genome, with a focus on CpG islands. This involves the addition of restriction enzymes to digest the DNA during the fragmentation step. Typically, the enzyme MspI is used which is methylation insensitive. It cuts at 5’-CCGG-3’ sites, and since the genome is largely depleted of CpGs except for promoters/CpG islands, the “reduced representation” is largely capturing only these promoter regions for further analysis.\n",
    "\n",
    "Regardless of the approach, Bisulfite treatment changes unmethylated cytosine (C) via uracil (U) to thymine (T), while methylated cytosines are protected from this conversion. Quantification of methylation is thus simply done by identifying C-to-T conversions in the aligned bisulfite treated reads and dividing the number of Cs by the sum of Ts and Cs for each cytosine in the genome.\n",
    "\n",
    "This tutorial is based on the Bisulfit Sequencing part of the Epigenomics Workshop 2024: \n",
    "* https://nbis-workshop-epigenomics.readthedocs.io/en/latest/content/tutorials/methylationSeq/Seq_Tutorial.html#\n",
    "\n",
    "---\n"
   ]
  },
  {
   "cell_type": "markdown",
   "id": "e3d8205c",
   "metadata": {},
   "source": [
    "<code style=\"background:steelblue\">                                                                                                              </code>\n",
    "\n",
    "## Dataset and Preprocessing\n",
    "\n",
    "The example dataset consists of mouse mammary gland cells. The epithelium of the mammary gland undergoes dramatic changes during puberty, pregnancy, lactation and regression. Characterization of the lineage hierarchy of cells in the mammary epithelium is an important step toward understanding which cells are predisposed to oncogenesis.\n",
    "\n",
    "In this study, the methylation status of two major functionally distinct epithelial compartments: **basal** and **luminal** cells were studied. The basal cells were further divided into those showing high or low expression of the surface marker Itga5. \n",
    "\n",
    "There are 6 Bismark coverage files in total: 4 basal samples (Itga5+, Itga5-) and 2 luminal samples. These files contain information about the location of each CpG and the number of reads corresponding to a methylated or unmethylated cytosine.\n",
    "\n",
    "The first step of the analysis is to map the sequence reads from the FASTQ files to the mouse genome and to perform methylation calls. The study used Bismark to count the methylated and unmethylated reads at each genomic locus. Bismark was run using recommended default settings. Before that they used trim_galore to remove adapters and to trim poor quality reads. Then Bismark version v0.13.0 was used to align the reads to the mouse mm10 genome using Bowtie2 [22]. Finally, methylation calls were made using bismark_methylation_extractor.\n",
    "\n",
    "* Bismark Github: https://github.com/FelixKrueger/Bismark\n",
    "* Bismark Paper (2011): http://www.ncbi.nlm.nih.gov/pubmed/21493656\n",
    "\n",
    "There are also other, newer options for the analysis of raw data files, e.g. BSBolt (Paper: https://academic.oup.com/gigascience/article/10/5/giab033/6272610)\n",
    "\n",
    "\n",
    "An alternative analysis of the dataset with edgeR was published here: https://f1000research.com/articles/6-2055/v2\n",
    "\n",
    "\n",
    "**For this exercise, we will start from the Bismark output, the calculated coverage files**. \n",
    "\n",
    "---"
   ]
  },
  {
   "cell_type": "markdown",
   "id": "8f6eebcd",
   "metadata": {},
   "source": [
    "<code style=\"background:salmon\">                                                                                                              </code>\n",
    "\n",
    "### Exercise:\n",
    "\n",
    "1. Answer all the questions marked with a red bar. \n",
    "2. Use the samples \"P7_2.bismark.cov\", \"P7_5.bismark.cov\" instead of the P8_x.bismark.cov samples in the analysis. Compare the results. \n",
    "\n",
    "The P7 samples are also basal samples, but Itga5 negative, whereas the P8 samples were Itga5 positive.\n",
    "\n",
    "---\n",
    "\n"
   ]
  },
  {
   "cell_type": "markdown",
   "id": "2dfaa6c6",
   "metadata": {},
   "source": [
    "<code style=\"background:steelblue\">                                                                                                              </code>\n",
    "\n",
    "### Load Libraries\n",
    "\n",
    "The workflow is based on the methylKit R package. This package has been developed as a comprehensive package for the analysis of genome-wide DNA methylation profiles providing functions for clustering, sample quality visualization and differential methylation analysis. genomation will be used to perform feature annotation.\n",
    "\n",
    "Other libaries that are needed are the two annotation packages: genomation and GenomicRanges\n",
    "\n",
    "\n",
    "\n",
    "---\n"
   ]
  },
  {
   "cell_type": "code",
   "execution_count": null,
   "id": "c1696822",
   "metadata": {
    "vscode": {
     "languageId": "r"
    }
   },
   "outputs": [],
   "source": [
    "if (!require(\"BiocManager\", quietly = TRUE))\n",
    "  install.packages(\"BiocManager\")\n",
    "\n",
    "BiocManager::install(\"methylKit\")\n",
    "BiocManager::install(\"genomation\")\n",
    "BiocManager::install(\"GenomicRanges\")"
   ]
  },
  {
   "cell_type": "code",
   "execution_count": null,
   "id": "f60356b2",
   "metadata": {
    "vscode": {
     "languageId": "r"
    }
   },
   "outputs": [],
   "source": [
    "library(\"methylKit\")\n",
    "library(\"genomation\")\n",
    "library(\"GenomicRanges\")"
   ]
  },
  {
   "cell_type": "markdown",
   "id": "fc451179",
   "metadata": {},
   "source": [
    "<code style=\"background:steelblue\">                                                                                                              </code>\n",
    "\n",
    "### Load Datasets\n",
    "\n",
    "As mentioned above, the samples files are Bismark coverage files, which need to be collected in a list R object prior to be loaded in methylKit using the methRead function. **The data files have been uploaded to Moodle.** \n",
    "\n",
    "Important is that you add the sample location, sample IDs and the genome assembly, as well as which pipeline was used to produce the input files. A treatment parameter indicating which sample is “control” or “0” and which is “test” or “1” should also be added. Additionally, you can define a minimum read coverage for CpG sites to be included in the object with mincov. Depending on the type of input data, additional parameters are available.\n",
    "\n",
    "You can keep the values the way they are listed below.\n",
    "\n",
    "---\n"
   ]
  },
  {
   "cell_type": "code",
   "execution_count": 6,
   "id": "7c15e5cd",
   "metadata": {
    "vscode": {
     "languageId": "r"
    }
   },
   "outputs": [
    {
     "name": "stderr",
     "output_type": "stream",
     "text": [
      "Received list of locations.\n",
      "\n"
     ]
    },
    {
     "name": "stderr",
     "output_type": "stream",
     "text": [
      "Reading file.\n",
      "\n",
      "Reading file.\n",
      "\n",
      "Reading file.\n",
      "\n",
      "Reading file.\n",
      "\n"
     ]
    }
   ],
   "source": [
    "# Define the list containing the bismark coverage files.\n",
    "file.list <- list(\n",
    "  \"data/P6_1.bismark.cov\",\n",
    "  \"data/P6_4.bismark.cov\",\n",
    "  \"data/P8_3.bismark.cov\",\n",
    "  \"data/P8_6.bismark.cov\")\n",
    "# read the listed files into a methylRawList object making sure the other # parameters are filled in correctly.\n",
    "myobj <- methRead(file.list,\n",
    "                  sample.id=list(\"Luminal_1\",\"Luminal_2\",\"Basal_1\",\"Basal_2\"),\n",
    "                  pipeline = \"bismarkCoverage\",\n",
    "                  assembly=\"mm10\", #mm10 is the mouse genome we are loading\n",
    "                  treatment=c(1,1,0,0),\n",
    "                  mincov = 10 ) # minimal coverage filtering of the data"
   ]
  },
  {
   "cell_type": "code",
   "execution_count": null,
   "id": "e13e3ea9",
   "metadata": {
    "vscode": {
     "languageId": "r"
    }
   },
   "outputs": [],
   "source": [
    "# Uncomment to examine the methylRaw object\n",
    "# myobj"
   ]
  },
  {
   "cell_type": "markdown",
   "id": "d9a00dc0",
   "metadata": {},
   "source": [
    "<code style=\"background:salmon\">                                                                                                              </code>\n",
    "\n",
    "\n",
    "The function methRead will result in a methylRawList object containing the data and metadata. \n",
    "\n",
    "Check the number of samples, and the content of the object. Read the methylKit documentation with regard to the questions below. *myobj* is a list object in R so each sample is one element in the list.\n",
    "\n",
    "* What is the content of the columns (what do the column names mean)? \n",
    "\n",
    "* Can you find out how many CpG sites are included in each sample?\n",
    "\n",
    "---"
   ]
  },
  {
   "cell_type": "markdown",
   "id": "1bf08ce9",
   "metadata": {},
   "source": [
    "### Answer Q1: Methylraw\n",
    "\n",
    "Additional Background: After bisulfite treatment, a “C” in the sequencing reads means that that position in the original DNA was methylated (protected from being converted into U and later T). If we see a “T,” that position was unmethylated (since it got converted from C→U→T).\n",
    "\n",
    "Raw data is a Bismarck file which looks like this: chr1    10034   10034   10  2  12\n",
    "- chr1 -> chromosome label\n",
    "- 10034 and 10034 are start/end positions of the CpG (usually just one base i.e. one C)\n",
    "- 10 reads are methylated, 2 reads are unmethylated and 12 is the total number of reads for this position\n",
    "\n",
    "#### **1. What is the content of the columns (what do the column names mean)?**\n",
    "\n",
    "A MethylRawList object is a list of lists in R, where each sublist is one sample.\n",
    "\n",
    "Column names in MethylRawList:\n",
    "- chr -> which chromosome the read is from\n",
    "- start/end\t-> the start and end of the observed methylated/unmethylated site on the chromosome (either a T or C respectively), usually the same position as it's just 1 base\n",
    "- strand -> DNA strand the read is from\n",
    "- coverage -> sum of numCs and numTs (tells us the coverage or how many reads we have total)\n",
    "- numCs\tnumTs -> number of unmethylated (Cs) and methylated (Ts) sites of the total # of reads\n",
    "\n",
    "#### **2. Can you find out how many CpG sites are included in each sample?**\n",
    "\n",
    "The number of CpG sites in each sample is the **number of rows**. However, this will depend on our criteria when making the MethylRawList files as we can change the criteria like the minimal number for coverage (min number of reads). Hence in our samples we have:\n",
    "\n",
    "- P6_1: 1 967 671 CpG sites with min 10 reads\n",
    "- P6_4: 1 936 217 CpG sites with min 10 reads\n",
    "- P8_3: 648 553 CpG sites with min 10 reads\n",
    "- P8_6: 543 611 CpG sites with min 10 reads\n"
   ]
  },
  {
   "cell_type": "markdown",
   "id": "3b7c573e",
   "metadata": {},
   "source": [
    "<code style=\"background:steelblue\">                                                                                                              </code>\n",
    "\n",
    "### Descriptive Statistics\n",
    "\n",
    "We can now have a look at some basic statistics per sample, such as the percentage methylation and coverage. For this, the functions ```getMethylationStats``` and ```getCoverageStats``` can be used. \n",
    "\n",
    "These stats can be plotted for each strand separately, but since Bismark coverage files do not include the strand origins of each CpG, the both.strands parameter has to be set to FALSE. \n",
    "Have a look at the stats for the 4 different different samples. \n",
    "\n",
    "Typically, **percentage methylation histograms** should have peaks on both ends of the distribution. In any given cell, any given cytosine is either methylated or not. Therefore, looking at many cells should yield a similar pattern where we see lots of locations with high methylation and lots of locations with low methylation and a lower number of locations with intermediate methylation. \n",
    "Because bisulfite sequencing has a relatively high error rate, samples between 0% and 10% are usually classified as “unmethylated”, and samples between 90% and 100% are classified as “fully methylated”, although these thresholds are not fixed.\n",
    "\n",
    "Experiments that are suffering from PCR duplication bias will have a secondary peak towards the right hand side of the **coverage histogram**.\n",
    "\n",
    "---\n",
    "\n",
    "\n",
    "<code style=\"background:salmon\">                                                                                                              </code>\n",
    "\n",
    "\n",
    "* Discuss the plots and results in the group, how would you interpret the data? Do the plots look as expected?\n",
    "\n",
    "\n",
    "\n",
    "---\n"
   ]
  },
  {
   "cell_type": "markdown",
   "id": "bbc4adc4",
   "metadata": {},
   "source": [
    "### Answer Q2: Plots discussion\n",
    "\n",
    "#### 1. Histograms of % CpG methylation\n",
    "\n",
    "**1.1. Luminal 1 and Luminal 2**\n",
    "\n",
    "<p align=\"left\">\n",
    "  <img src=\"methylation_hist_1.png\" alt=\"Methylation Histogram 1\" width=\"300\">\n",
    "  <img src=\"methylation_hist_2.png\" alt=\"Methylation Histogram 2\" width=\"300\">\n",
    "</p>\n",
    "\n",
    "\n",
    "- The histograms show a bimodal distribution with two peaks: one at 0% and another at 100% methylation which is to be expected in bisulfite sequencing as CpGs are either fully unmethylated (0%) or fully methylated (100%). If, for example, we had a third peak in the middle section (e.g. at around 50% methylation) this could signify either some mistakes in sample preparation or unusual variability in some parts of the genome.  \n",
    "\n",
    "**1.2. Basal 1 and Basal 2**\n",
    "\n",
    "<p align=\"left\">\n",
    "  <img src=\"methylation_hist_3.png\" alt=\"Methylation Histogram 3\" width=\"300\">\n",
    "  <img src=\"methylation_hist_4.png\" alt=\"Methylation Histogram 4\" width=\"300\">\n",
    "</p>\n",
    "\n",
    "\n",
    "- While basal samples still exhibit a bimodal distribution, compared to luminal ones their distributions are more spread out i.e. there are more intermediate metylation values (percentage-wise) in the basal samples. Basal samples also have a higher IQR and higher max values which at first glance suggets that there is more variability in CpG methylation. **However**, we have to keep in mind that luminal samples have almost 3x the number of CpG sites i.e. a much larger dataset compared to Basal ones. Hence, the histograms of luminal samples have a smoother distribution while the broader distribution in basal histograms may not reflect actual variability but rather is a result of the smaller dataset. \n",
    "\n",
    "#### 2. Histogram of log10 CpG coverage\n",
    "\n",
    "**2.1. Luminal 1 and Luminal 2**\n",
    "\n",
    "<p align=\"left\">\n",
    "  <img src=\"coverage_hist_1.png\" alt=\"Coverage Histogram 1\" width=\"300\">\n",
    "  <img src=\"coverage_hist_2.png\" alt=\"Coverage Histogram 2\" width=\"300\">\n",
    "</p>\n",
    "\n",
    "\n",
    "- The coverage histograms are right-skewed, meaning that a very small number of CpG sites have very high coverage and most CpGs have low to mid coverage. This is expected in bisulfite seq where most CpGs have consistent coverage (not too high, not too low) and a few may have disproportionately high coverage (maybe due to amplification or some repetitive regions). \n",
    "\n",
    "A closer look at Luminal 1: The IQR is between 15 reads (Q1) to 31 reads (Q3) which means that the central 50% of our data is in this narrow range (which is good and shows we have an even distribution of reads). The consistent coverage of our reads is further confirmed by the range between the 10th percentile (12 reads) and 90th percentile (45 reads). \n",
    "\n",
    "**2.2. Basal 1 and Basal 2**\n",
    "\n",
    "<p align=\"left\">\n",
    "  <img src=\"coverage_hist_3.png\" alt=\"Coverage Histogram 3\" width=\"300\">\n",
    "  <img src=\"coverage_hist_4.png\" alt=\"Coverage Histogram 4\" width=\"300\">\n",
    "</p>\n",
    "\n",
    "- Basal coverage histograms are also right-skewed but exhibit more lower coverage values (the first bin at log10(1) on x-axis). Still, a direct comparison with luminal histograms is not possible because the differences in histograms are influenced by the total number of CpG sites which are almost 3x lower for basal samples. We'd have to normalize the data to be able to make definitive conclusions about the CpG coverage. Despite this limitation, the histograms of both luminal and basal samples look as expected and do not show any concerning values. \n"
   ]
  },
  {
   "cell_type": "code",
   "execution_count": 7,
   "id": "a9bb5868",
   "metadata": {
    "vscode": {
     "languageId": "r"
    }
   },
   "outputs": [
    {
     "data": {
      "image/png": "[encoded data removed]",
      "text/plain": [
       "Plot with title \"Histogram of % CpG methylation\""
      ]
     },
     "metadata": {
      "image/png": {
       "height": 420,
       "width": 420
      }
     },
     "output_type": "display_data"
    },
    {
     "name": "stdout",
     "output_type": "stream",
     "text": [
      "read coverage statistics per base\n",
      "summary:\n",
      "    Min.  1st Qu.   Median     Mean  3rd Qu.     Max. \n",
      "    10.0     15.0     22.0     29.4     31.0 423344.0 \n",
      "percentiles:\n",
      "    0%    10%    20%    30%    40%    50%    60%    70%    80%    90%    95% \n",
      "    10     12     14     17     19     22     25     28     34     45     64 \n",
      "   99%  99.5%  99.9%   100% \n",
      "   132    168    289 423344 \n",
      "\n"
     ]
    },
    {
     "data": {
      "image/png": "[encoded data removed]",
      "text/plain": [
       "Plot with title \"Histogram of CpG coverage\""
      ]
     },
     "metadata": {
      "image/png": {
       "height": 420,
       "width": 420
      }
     },
     "output_type": "display_data"
    },
    {
     "data": {
      "image/png": "[encoded data removed]",
      "text/plain": [
       "Plot with title \"Histogram of % CpG methylation\""
      ]
     },
     "metadata": {
      "image/png": {
       "height": 420,
       "width": 420
      }
     },
     "output_type": "display_data"
    },
    {
     "name": "stdout",
     "output_type": "stream",
     "text": [
      "read coverage statistics per base\n",
      "summary:\n",
      "    Min.  1st Qu.   Median     Mean  3rd Qu.     Max. \n",
      "    10.0     15.0     21.0     36.3     33.0 890876.0 \n",
      "percentiles:\n",
      "        0%        10%        20%        30%        40%        50%        60% \n",
      "    10.000     12.000     14.000     16.000     19.000     21.000     25.000 \n",
      "       70%        80%        90%        95%        99%      99.5%      99.9% \n",
      "    29.000     37.000     60.000     98.000    242.000    328.000    586.784 \n",
      "      100% \n",
      "890876.000 \n",
      "\n"
     ]
    },
    {
     "data": {
      "image/png": "[encoded data removed]",
      "text/plain": [
       "Plot with title \"Histogram of CpG coverage\""
      ]
     },
     "metadata": {
      "image/png": {
       "height": 420,
       "width": 420
      }
     },
     "output_type": "display_data"
    },
    {
     "data": {
      "image/png": "[encoded data removed]",
      "text/plain": [
       "Plot with title \"Histogram of % CpG methylation\""
      ]
     },
     "metadata": {
      "image/png": {
       "height": 420,
       "width": 420
      }
     },
     "output_type": "display_data"
    },
    {
     "name": "stdout",
     "output_type": "stream",
     "text": [
      "read coverage statistics per base\n",
      "summary:\n",
      "    Min.  1st Qu.   Median     Mean  3rd Qu.     Max. \n",
      "    10.0     12.0     17.0     32.9     31.0 460706.0 \n",
      "percentiles:\n",
      "    0%    10%    20%    30%    40%    50%    60%    70%    80%    90%    95% \n",
      "    10     10     11     13     14     17     20     26     37     61     93 \n",
      "   99%  99.5%  99.9%   100% \n",
      "   193    244    493 460706 \n",
      "\n"
     ]
    },
    {
     "data": {
      "image/png": "[encoded data removed]",
      "text/plain": [
       "Plot with title \"Histogram of CpG coverage\""
      ]
     },
     "metadata": {
      "image/png": {
       "height": 420,
       "width": 420
      }
     },
     "output_type": "display_data"
    },
    {
     "data": {
      "image/png": "[encoded data removed]",
      "text/plain": [
       "Plot with title \"Histogram of % CpG methylation\""
      ]
     },
     "metadata": {
      "image/png": {
       "height": 420,
       "width": 420
      }
     },
     "output_type": "display_data"
    },
    {
     "name": "stdout",
     "output_type": "stream",
     "text": [
      "read coverage statistics per base\n",
      "summary:\n",
      "    Min.  1st Qu.   Median     Mean  3rd Qu.     Max. \n",
      "    10.0     12.0     16.0     30.7     29.0 378861.0 \n",
      "percentiles:\n",
      "    0%    10%    20%    30%    40%    50%    60%    70%    80%    90%    95% \n",
      "    10     10     11     12     14     16     19     25     34     55     83 \n",
      "   99%  99.5%  99.9%   100% \n",
      "   174    220    517 378861 \n",
      "\n"
     ]
    },
    {
     "data": {
      "image/png": "[encoded data removed]",
      "text/plain": [
       "Plot with title \"Histogram of CpG coverage\""
      ]
     },
     "metadata": {
      "image/png": {
       "height": 420,
       "width": 420
      }
     },
     "output_type": "display_data"
    }
   ],
   "source": [
    "# Get a histogram of the methylation percentage per sample\n",
    "op <- par(bg = \"white\")\n",
    "\n",
    "# Sample 1 (Luminal 1)\n",
    "getMethylationStats(myobj[[1]], plot=TRUE, both.strands=FALSE)\n",
    "\n",
    "# Get a histogram of the read coverage per sample\n",
    "getCoverageStats(myobj[[1]], plot=TRUE, both.strands=FALSE) \n",
    "# Get percentile data by setting plot=FALSE \n",
    "getCoverageStats(myobj[[1]], plot=FALSE, both.strands=FALSE)\n",
    "\n",
    "# Sample 2 (Luminal 2)\n",
    "getMethylationStats(myobj[[2]], plot=TRUE, both.strands=FALSE)\n",
    "\n",
    "getCoverageStats(myobj[[2]], plot=TRUE, both.strands=FALSE) \n",
    "getCoverageStats(myobj[[2]], plot=FALSE, both.strands=FALSE)\n",
    "\n",
    "# Sample 3 (Basal 1)\n",
    "getMethylationStats(myobj[[3]], plot=TRUE, both.strands=FALSE)\n",
    "\n",
    "getCoverageStats(myobj[[3]], plot=TRUE, both.strands=FALSE) \n",
    "getCoverageStats(myobj[[3]], plot=FALSE, both.strands=FALSE)\n",
    "\n",
    "# Sample 4 (Basal 2)\n",
    "getMethylationStats(myobj[[4]], plot=TRUE, both.strands=FALSE)\n",
    "\n",
    "getCoverageStats(myobj[[4]], plot=TRUE, both.strands=FALSE) \n",
    "getCoverageStats(myobj[[4]], plot=FALSE, both.strands=FALSE)\n",
    "\n",
    "par(op)\n"
   ]
  },
  {
   "cell_type": "markdown",
   "id": "232a1fc4",
   "metadata": {},
   "source": [
    "<code style=\"background:steelblue\">                                                                                                              </code>\n",
    "\n",
    "\n",
    "### Filter Step\n",
    "\n",
    "It might be useful to filter samples based on coverage. In particular, if samples are suffering from PCR bias or overamplification it could be useful to discard bases with very high read coverage. Furthermore, we would also like to discard bases that have very low read coverage, because these tend to produce unreliable and unstable statistics in the downstream analysis. \n",
    "\n",
    "The code below filters a methylRawList and discards bases that have coverage below 10 reads and also discards the bases that have more than 99.9th percentile of coverage in each sample.\n",
    "\n",
    "\n",
    "<code style=\"background:salmon\">                                                                                                              </code>\n",
    "\n",
    "* How many bases were filtered?\n",
    "* The low count filter here is not really necessary, why not? \n",
    "\n",
    "---"
   ]
  },
  {
   "cell_type": "code",
   "execution_count": 8,
   "id": "b5c0ef00",
   "metadata": {
    "vscode": {
     "languageId": "r"
    }
   },
   "outputs": [],
   "source": [
    "myobj.filt <- filterByCoverage(myobj,\n",
    "                      lo.count=10, #low counts are filtered for count(background noise in the equipment)\n",
    "                      lo.perc=NULL, \n",
    "                      hi.count=NULL, \n",
    "                      hi.perc=99.9) # high counts are filtered for percentage, highgest 0.1% because it gives too much weight to those\n",
    "                      # filters that are in this high bereich\n",
    "\n",
    "# myobj.filt"
   ]
  },
  {
   "cell_type": "code",
   "execution_count": 9,
   "id": "538727af",
   "metadata": {
    "vscode": {
     "languageId": "r"
    }
   },
   "outputs": [
    {
     "name": "stdout",
     "output_type": "stream",
     "text": [
      "  Sample OriginalBases FilteredBases BasesFilteredOut PercentFilteredOut\n",
      "1   P6_1       1967671       1965682             1989          0.1010840\n",
      "2   P6_4       1936217       1934280             1937          0.1000404\n",
      "3   P8_3        648553        647900              653          0.1006857\n",
      "4   P8_6        543611        543065              546          0.1004395\n"
     ]
    }
   ],
   "source": [
    "# Custom function to output filtered numbers\n",
    "filtered_number <- function(unfiltered, filtered, sample_names) {\n",
    "    result <- data.frame(\n",
    "        Sample = sample_names,  \n",
    "        OriginalBases = sapply(unfiltered, nrow),  # Count rows in each methylRaw object\n",
    "        FilteredBases = sapply(filtered, nrow),    # Count rows in filtered objects\n",
    "        BasesFilteredOut = sapply(unfiltered, nrow) - sapply(filtered, nrow),  # Difference\n",
    "        PercentFilteredOut = (sapply(unfiltered, nrow) - sapply(filtered, nrow)) / sapply(unfiltered, nrow) * 100\n",
    "    )\n",
    "    return(result)\n",
    "}\n",
    "\n",
    "sample_names <- c(\"P6_1\", \"P6_4\", \"P8_3\", \"P8_6\")\n",
    "\n",
    "# Function used on myobj\n",
    "filtered_stats <- filtered_number(myobj, myobj.filt, sample_names)\n",
    "\n",
    "\n",
    "print(filtered_stats)"
   ]
  },
  {
   "cell_type": "markdown",
   "id": "89e6a06a",
   "metadata": {},
   "source": [
    "### Answer Q3: Filter step\n",
    "\n",
    "**How many bases were filtered?**\n",
    "\n",
    "- All of the bases were filtered out above the 99.9th percentile (highly repetitive regions or those with PCR-bias). We have a very small percentage of filtered out bases which means the original data was of high quality and we didn't lose much data during filtering.\n",
    "\n",
    "```r\n",
    "Sample OriginalBases FilteredBases BasesFilteredOut PercentFilteredOut\n",
    "1   P6_1       1967671       1965682             1989          0.1010840\n",
    "2   P6_4       1936217       1934280             1937          0.1000404\n",
    "3   P8_3        648553        647900              653          0.1006857\n",
    "4   P8_6        543611        543065              546          0.1004395\n",
    "```\n",
    "**The low count filter here is not really necessary, why not?**\n",
    "\n",
    "- The low count filter was not necessary because we had already set the min parameter (10) when we created the MethylRaw object in the previous step."
   ]
  },
  {
   "cell_type": "markdown",
   "id": "a1a53d4d",
   "metadata": {},
   "source": [
    "<code style=\"background:steelblue\">                                                                                                              </code>\n",
    "\n",
    "### Normalization\n",
    "\n",
    "Next, a basic normalization of the coverage values between samples is performed by using a scaling factor derived from differences between the median of the coverage distributions. In the dowstream differential analysis, we will be comparing methylation fractions between samples, so one could think that sequence depth would not matter all that much. After all, 40/80 (mC/C) reads is the same fraction as 400/800 (mC/C) reads. \n",
    "\n",
    "However, certain statistical tests (i.e. Fisher’s exact test) will result in different p-values depending on the total number of reads. Thus, if the coverage is quite similar across the samples, this step is not really essential, otherwise it might be a good idea to normalize the data.\n",
    "\n",
    "\n",
    "\n",
    "\n",
    "---\n"
   ]
  },
  {
   "cell_type": "code",
   "execution_count": null,
   "id": "9e4c3de3",
   "metadata": {
    "vscode": {
     "languageId": "r"
    }
   },
   "outputs": [],
   "source": [
    "myobj.filt.norm <- normalizeCoverage(myobj.filt, method = \"median\") \n",
    "\n",
    "# Sequencing for Sequenziertiefe -> when there is a big difference in the sequencing depth this can lead to false results for gene expression\n",
    "\n",
    "myobj.filt.norm"
   ]
  },
  {
   "cell_type": "code",
   "execution_count": 11,
   "id": "e370b503",
   "metadata": {
    "vscode": {
     "languageId": "r"
    }
   },
   "outputs": [
    {
     "name": "stdout",
     "output_type": "stream",
     "text": [
      "Median coverage before normalization:\n",
      "[1] 22 21 17 16\n",
      "Median coverage after normalization:\n",
      "[1] 22 22 22 22\n",
      "Coverage range before normalization:\n",
      "     [,1] [,2] [,3] [,4]\n",
      "[1,]   10   10   10   10\n",
      "[2,]  288  586  492  516\n",
      "Coverage range after normalization:\n",
      "     [,1] [,2] [,3] [,4]\n",
      "[1,]   10   10   13   14\n",
      "[2,]  288  614  637  710\n"
     ]
    }
   ],
   "source": [
    "# Written by me to check if normalization worked\n",
    "# Check the median coverage for each sample before and after normalization\n",
    "calculate_medians <- function(obj) {\n",
    "  sapply(obj, function(sample) median(sample$coverage))\n",
    "}\n",
    "\n",
    "medians_before <- calculate_medians(myobj.filt)\n",
    "medians_after <- calculate_medians(myobj.filt.norm)\n",
    "\n",
    "cat(\"Median coverage before normalization:\\n\")\n",
    "print(medians_before)\n",
    "\n",
    "cat(\"Median coverage after normalization:\\n\")\n",
    "print(medians_after)\n",
    "\n",
    "# Coverage ranges before normalization\n",
    "range_before <- sapply(myobj.filt, function(sample) range(sample$coverage))\n",
    "cat(\"Coverage range before normalization:\\n\")\n",
    "print(range_before)\n",
    "\n",
    "# Coverage ranges after normalization\n",
    "range_after <- sapply(myobj.filt.norm, function(sample) range(sample$coverage))\n",
    "cat(\"Coverage range after normalization:\\n\")\n",
    "print(range_after)"
   ]
  },
  {
   "cell_type": "markdown",
   "id": "31199cfe",
   "metadata": {},
   "source": [
    "<code style=\"background:steelblue\">                                                                                                              </code>\n",
    "\n",
    "### Merge Data\n",
    "\n",
    "In order to do further analysis, we will need to extract the bases that are covered by reads in all our samples. The following function will merge all samples to one object with base-pair locations that are covered in all samples. \n",
    "\n",
    "Setting destrand=TRUE (the default is FALSE) will merge reads on both strands of a CpG dinucleotide. This provides better coverage, but only advised when looking at CpG methylation. In addition, setting destrand=TRUE will only work when operating on base-pair resolution, otherwise setting this option TRUE will have no effect. \n",
    "\n",
    "**Our data contains no strand info, so the destrand option is not applicable.**\n",
    "\n",
    "The unite function will return a methylBase object which will be our main object for all comparative analysis. The methylBase object contains methylation information for regions/bases that are covered in all samples.\n",
    "\n",
    "\n",
    "<code style=\"background:salmon\">                                                                                                              </code>\n",
    "\n",
    "* How many bases were kept for downstream analysis?\n",
    "\n",
    "---\n"
   ]
  },
  {
   "cell_type": "markdown",
   "id": "10fdc30c",
   "metadata": {},
   "source": [
    "### Answer Q4: Downstream analysis\n",
    "\n",
    "**How many bases were kept for downstream analysis?**\n",
    "\n",
    "- 424 932 (nrow) bases were kept. "
   ]
  },
  {
   "cell_type": "code",
   "execution_count": null,
   "id": "58fafd3c",
   "metadata": {
    "vscode": {
     "languageId": "r"
    }
   },
   "outputs": [],
   "source": [
    "meth <- unite(myobj.filt.norm, destrand=FALSE)\n",
    "\n",
    "# We filter places which are for example always unmethylated\n",
    "# Filtering this reduces the rate of false positives in my analysis\n",
    "# BUT issue is also if we filter too much as some normalization models are based on the premise that 70% of data won't change\n",
    "\n",
    "# We also filter places where there is a known C-T mutation (where we know there is a mutation in this population)\n",
    "# We filter of this in order to not identify this place as a methylation (although it is really a mutation, there is no C, it is a T in the genome)\n",
    "\n",
    "meth\n",
    "nrow(getData(meth))\n",
    "dim(getData(meth))"
   ]
  },
  {
   "cell_type": "markdown",
   "id": "f000beb6",
   "metadata": {},
   "source": [
    "<code style=\"background:steelblue\">                                                                                                              </code>\n",
    "\n",
    "### Further Filtering\n",
    "\n",
    "High-throughput methylation data contains a lot of CpG sites that have no or little variation among study subjects and are not all that informative for downstream analyses. Nonspecific CpG filtering (i.e., not considering phenotype) is a common dimension reduction procedure performed prior to cluster analysis and differential methylation. For exploratory analysis, it is of general interest to see how samples relate to each other and we might want to remove CpGs that are not variable before doing that. For differential methylation, removing non variable CpGs prior to the analysis will lower the number of tests that needs to be performed, thus reducing multiple correction penalties.\n",
    "\n",
    "The most commonly used and simple method of standard deviation filtering on methylation ratio values has been shown to be robust and consistent to different real datasets and would suffice for most occasions.\n",
    "\n",
    "---\n",
    "\n",
    "We can further remove known C -> T mutations. Mutation locations can be stored in a GRanges object, and we can use that to remove the CpGs overlapping with the mutations. In order to do the overlap operation, we will convert the methylKit object to a GRanges object and do the filtering with the %over% function. The returned object will still be a methylKit object.\n",
    "\n",
    "---\n",
    "\n",
    "\n",
    "<code style=\"background:salmon\">                                                                                                              </code>\n",
    "\n",
    "* How many CpG sites were filtered with each of the above filtering steps?\n",
    "* Discuss in the group why it would be useful to remove known C -> T mutations?\n",
    "\n",
    "\n",
    "---\n"
   ]
  },
  {
   "cell_type": "markdown",
   "id": "918ef3d4",
   "metadata": {},
   "source": [
    "### Answer Q5: Further filtering\n",
    "\n",
    "**How many CpG sites were filtered with each of the above filtering steps?**\n",
    "\n",
    "- Initial number of CpG sites: 326531 \n",
    "- CpG sites filtered by standard deviation: 0 \n",
    "- CpG sites filtered by mutation overlap: 0 \n",
    "\n",
    "**Why is it useful to remove known C->T mutations?**\n",
    "\n",
    "- A C-> T mutation can lead to a false conclusion that this C-Site is unmethylated (because Bisulfite treatment \"converted\" the C to T) while in reality, this is a mutation and has nothing to do with methylation. Removing them ensures cleaner downstream analyses and avoids wasting computational resources on irrelevant sites.\n"
   ]
  },
  {
   "cell_type": "code",
   "execution_count": 13,
   "id": "92e23a70",
   "metadata": {
    "vscode": {
     "languageId": "r"
    }
   },
   "outputs": [
    {
     "data": {
      "image/png": "[encoded data removed]",
      "text/plain": [
       "Plot with title \"Histogram of sds\""
      ]
     },
     "metadata": {
      "image/png": {
       "height": 420,
       "width": 420
      }
     },
     "output_type": "display_data"
    }
   ],
   "source": [
    "op <- par(bg = \"white\")\n",
    "# get percent methylation matrix\n",
    "pm=percMethylation(meth)\n",
    "\n",
    "# calculate standard deviation of CpGs\n",
    "sds=matrixStats::rowSds(pm)\n",
    "\n",
    "# Visualize the distribution of the per-CpG standard deviation\n",
    "# to determine a suitable cutoff\n",
    "hist(sds, breaks = 100)\n",
    "\n",
    "# keep only CpG with standard deviations (sds) larger than 2%\n",
    "meth <- meth[sds > 2]\n",
    "\n",
    "# give the locations of 2 example SNPs\n",
    "mut <- GRanges(seqnames=c(\"chr1\",\"chr18\"),\n",
    "         ranges=IRanges(start=c(3020690, 9853326),\n",
    "                        end=c(3020690,9853326)))\n",
    "\n",
    "# select CpGs that do not overlap with mutations\n",
    "meth <- meth[!as(meth,\"GRanges\") %over% mut, ]\n",
    "\n",
    "\n",
    "par(op)"
   ]
  },
  {
   "cell_type": "code",
   "execution_count": 14,
   "id": "d8aee4da",
   "metadata": {
    "vscode": {
     "languageId": "r"
    }
   },
   "outputs": [
    {
     "name": "stdout",
     "output_type": "stream",
     "text": [
      "Initial number of CpG sites: 424932 \n",
      "CpG sites filtered by standard deviation: 98400 \n",
      "CpG sites filtered by mutation overlap: 1 \n",
      "Are there any CpG sites with SD <= 2?  TRUE \n"
     ]
    }
   ],
   "source": [
    "# MY CODE: Figuring out the number of filtered CpGs\n",
    "\n",
    "# Number of CpG sites before any filtering\n",
    "initial_sites <- nrow(pm)  # The number of rows in the percent methylation matrix\n",
    "cat(\"Initial number of CpG sites:\", initial_sites, \"\\n\")\n",
    "\n",
    "# Number of CpG sites after standard deviation filtering\n",
    "sites_after_sd <- sum(sds > 2)  # The number of CpG sites with standard deviation > 2%\n",
    "filtered_sd <- initial_sites - sites_after_sd  # CpG sites filtered out due to SD filtering\n",
    "cat(\"CpG sites filtered by standard deviation:\", filtered_sd, \"\\n\")\n",
    "\n",
    "# Number of CpG sites after removing overlaps with mutations\n",
    "sites_after_mut <- nrow(meth)  # Remaining CpG sites after mutation filtering\n",
    "filtered_mut <- sites_after_sd - sites_after_mut  # CpG sites filtered out due to mutations\n",
    "cat(\"CpG sites filtered by mutation overlap:\", filtered_mut, \"\\n\")\n",
    "\n",
    "# Check if any standard deviations are less than 2\n",
    "any_below_2 <- any(sds <= 2)\n",
    "cat(\"Are there any CpG sites with SD <= 2? \", any_below_2, \"\\n\")"
   ]
  },
  {
   "cell_type": "markdown",
   "id": "a1f64874",
   "metadata": {},
   "source": [
    "<code style=\"background:steelblue\">                                                                                                              </code>\n",
    "\n",
    "\n",
    "### Data Structure/Outlier Detection\n",
    "\n",
    "We can check the **correlation** between samples using getCorrelation. This function will either plot scatter plot and Pearson correlation coefficients or just print a correlation matrix if plot=FALSE. \n",
    "\n",
    "Also **hierarchical clustering** of distance measures derived from each samples’ percentage methylation can be used to visualize how similar the samples are. Check the function ```clusterSamples``` to see which distance measures and clustering methods are available.\n",
    "\n",
    "Another very useful visualization is a **principal component analysis** plot. Here multidimensional data (i.e. we have as many dimensions in this data as there are CpG loci in meth) are projected into 2 or 3-dimensional space while at the same time maintaining as much variation in the data as possible. Samples that are more alike will be clustered together in PC space, so by looking at this plot we can see what is the largest source of variation in data and whether there are sample swaps and/or outlier samples.```PCASamples``` is a function in methylKit that will perform PCA and plot the first two principal components.\n",
    "\n",
    "---\n",
    "\n",
    "<code style=\"background:salmon\">                                                                                                              </code>\n",
    "\n",
    "* Do the plots look as expected?\n",
    "* What does the PCA plot of our dataset tell you? \n",
    "* What is the biggest source of variation on the data? \n",
    "* Does it look samples are swapped? \n",
    "* Do there seem to be outliers among the samples?\n",
    "\n",
    "\n",
    "---\n"
   ]
  },
  {
   "cell_type": "markdown",
   "id": "0e731b84",
   "metadata": {},
   "source": [
    "### Answer Q5: Data structure and outlier detection\n",
    "```r\n",
    "          Luminal_1 Luminal_2   Basal_1   Basal_2\n",
    "Luminal_1 1.0000000 0.9733819 0.8861950 0.8831778\n",
    "Luminal_2 0.9733819 1.0000000 0.8870822 0.8841958\n",
    "Basal_1   0.8861950 0.8870822 1.0000000 0.9420206\n",
    "Basal_2   0.8831778 0.8841958 0.9420206 1.0000000\n",
    "```\n",
    "#### **Do the plots look as expected?**\n",
    "\n",
    "<p align=\"left\">\n",
    "  <img src=\"Cpg_cor_hist.png\" alt=\"Cpg Cor\" width=\"300\">\n",
    "  <img src=\"cluster_graph.png\" alt=\"Cluster\" width=\"300\">\n",
    "</p>\n",
    "\n",
    "- The Pearson coefficients in the correlation matrix make sense-> The luminal samples (Luminal_1 and Luminal_2) show a very strong correlation (r = 0.97). Basal samples (Basal_1 and Basal_2) also correlate strongly (0.94). This confirms that the samples are part of same subtype. The correlation between luminal and basal samples is lower (r = 0.88 or 0.89) which means the two different subtypes have different methylation patterns. \n",
    "\n",
    "- The CpG methylation clustering plot and the PCA plot look somewhat surprising as they just clusters the 4 samples with each other (we expected individual CpGs to be clustered). \n",
    "\n",
    "#### **What does the PCA plot of our dataset tell you?**\n",
    "\n",
    "<p align=\"left\">\n",
    "  <img src=\"PCA_graph.png\" alt=\"PCA\" width=\"300\">\n",
    "</p>\n",
    "\n",
    "- Luminal samples (Luminal_1 and Luminal_2) are clustering very tightly together near the origin of the plot meaning that they are very strongly correlated (confirming our observations from the correlation matrix). \n",
    "\n",
    "- Basal samples (Basal_1 and Basal_2) are far apart from the Luminal samples in the PC1 dimension meaning that there are strong methylation differences between the subtypes. Basal samples are less separated from each other on the PC2 dimension meaning that there is some variability within the basal subtype.\n",
    "\n",
    "\n",
    "#### **What is the biggest source of variation on the data?**\n",
    "\n",
    "- PC1 explains the largest part of the variation meaning that subtype difference in methylation between Luminal and Basal samples is the biggest source of variation. PC2 is the source of variation between the two basal samples.\n",
    "\n",
    "#### **Does it look samples are swapped?** \n",
    "\n",
    "- The dendrogram in the clustering plot correctly groups Luminal samples together and Basal samples together which means that the samples were not swapped.\n",
    "\n",
    "#### **Do there seem to be outliers among the samples?**\n",
    "\n",
    "- No obvious outliers are visible in the plots. No samples significantly deviate from the subtype cluster."
   ]
  },
  {
   "cell_type": "code",
   "execution_count": 15,
   "id": "a76ae4a9",
   "metadata": {
    "vscode": {
     "languageId": "r"
    }
   },
   "outputs": [
    {
     "name": "stdout",
     "output_type": "stream",
     "text": [
      "          Luminal_1 Luminal_2   Basal_1   Basal_2\n",
      "Luminal_1 1.0000000 0.9733819 0.8861950 0.8831778\n",
      "Luminal_2 0.9733819 1.0000000 0.8870822 0.8841958\n",
      "Basal_1   0.8861950 0.8870822 1.0000000 0.9420206\n",
      "Basal_2   0.8831778 0.8841958 0.9420206 1.0000000\n"
     ]
    },
    {
     "data": {
      "image/png": "[encoded data removed]",
      "text/plain": [
       "plot without title"
      ]
     },
     "metadata": {
      "image/png": {
       "height": 420,
       "width": 420
      }
     },
     "output_type": "display_data"
    }
   ],
   "source": [
    "# Correlation between samples\n",
    "op <- par(bg = \"white\")\n",
    "suppressWarnings(getCorrelation(meth,plot=TRUE))\n",
    "par(op)"
   ]
  },
  {
   "cell_type": "code",
   "execution_count": 16,
   "id": "c26c3f5c",
   "metadata": {
    "vscode": {
     "languageId": "r"
    }
   },
   "outputs": [
    {
     "data": {
      "text/plain": [
       "\n",
       "Call:\n",
       "hclust(d = d, method = HCLUST.METHODS[hclust.method])\n",
       "\n",
       "Cluster method   : ward.D2 \n",
       "Distance         : pearson \n",
       "Number of objects: 4 \n"
      ]
     },
     "metadata": {},
     "output_type": "display_data"
    },
    {
     "data": {
      "image/png": "[encoded data removed]",
      "text/plain": [
       "Plot with title \"CpG methylation clustering\""
      ]
     },
     "metadata": {
      "image/png": {
       "height": 420,
       "width": 420
      }
     },
     "output_type": "display_data"
    }
   ],
   "source": [
    "# Cluster samples\n",
    "op <- par(bg = \"white\")\n",
    "clusterSamples(meth, dist=\"correlation\", method=\"ward.D2\", plot=TRUE)\n",
    "par(op)"
   ]
  },
  {
   "cell_type": "code",
   "execution_count": 17,
   "id": "c85573ce",
   "metadata": {
    "vscode": {
     "languageId": "r"
    }
   },
   "outputs": [
    {
     "data": {
      "image/png": "[encoded data removed]",
      "text/plain": [
       "Plot with title \"CpG methylation PCA Analysis\""
      ]
     },
     "metadata": {
      "image/png": {
       "height": 420,
       "width": 420
      }
     },
     "output_type": "display_data"
    }
   ],
   "source": [
    "op <- par(bg = \"white\")\n",
    "PCASamples(meth)\n",
    "par(op)"
   ]
  },
  {
   "cell_type": "markdown",
   "id": "a965f338",
   "metadata": {},
   "source": [
    "<code style=\"background:steelblue\">                                                                                                              </code>\n",
    "\n",
    "\n",
    "## Differential Methylation\n",
    "\n",
    "### Single CpG Sites\n",
    "\n",
    "If the basic statistics of the samples look OK and the data structure seems reasonable, we can proceed to the differential methylation step. Differential DNA methylation is usually calculated by comparing the proportion of methylated Cs in a test sample relative to a control. \n",
    "\n",
    "* In simple comparisons between such pairs of samples (i.e. test and control), methods such as Fisher’s Exact Test can be applied when there are no replicates for test and control cases. \n",
    "* If replicates are available, regression based methods are generally used to model methylation levels in relation to the sample groups and variation between replicates. In addition, an advantage of regression methods over Fisher’s exact test is that it allows for the inclusion of sample specific covariates (continuous or categorical) and the ability to adjust for confounding variables.\n",
    "\n",
    "The ```calculateDiffMeth``` function is the main function to calculate differential methylation in the methylKit package. Depending on the sample size per each set it will either use Fisher’s exact or logistic regression to calculate P-values. In practice, the number of samples per group will determine which of the two methods will be used (logistic regression or Fisher’s exact test). If there are multiple samples per group, methylKit will employ the logistic regression test. Otherwise, when there is one sample per group, Fisher’s exact test will be used. P-values will automatically be corrected for multiple testing using the Benjamini-Hochberg FDR method.\n",
    "\n",
    "\n",
    "* Alternatively, the function ```calculateDiffMethDSS``` provides an interface to the beta-binomial model from the DSS package. This might sometimes be more statistically sound as it can account for both sampling and epigenetic variability\n",
    "* If you want to compare multiple treatment groups, you can do as above using a treatment vector as c(2,2,1,1,0,0) to detect CpGs differing in any of the groups. For specific pairwise comparisons you have to use the reorganize function and rerun ```calculateDiffMeth```\n",
    "\n",
    "\n",
    "The data can be visualized in a Volcano Plot.\n",
    "\n",
    "\n",
    "---\n",
    "\n",
    "<code style=\"background:salmon\">                                                                                                              </code>\n",
    "\n",
    "* Create a Volcano Plot which indicates significantlly differentially methylated data (adj. p-value <0.01, difference > abs(+/-25))\n",
    "\n",
    "\n",
    "---\n",
    "\n"
   ]
  },
  {
   "cell_type": "code",
   "execution_count": 18,
   "id": "eb40d695",
   "metadata": {
    "vscode": {
     "languageId": "r"
    }
   },
   "outputs": [
    {
     "name": "stderr",
     "output_type": "stream",
     "text": [
      "two groups detected:\n",
      " will calculate methylation difference as the difference of\n",
      "treatment (group: 1) - control (group: 0)\n",
      "\n"
     ]
    }
   ],
   "source": [
    "# Test for differential methylation... This will take some minutes.\n",
    "myDiff <- calculateDiffMeth(meth,\n",
    "                            overdispersion = \"MN\", # MN and BH are different methods for multiple test\n",
    "                            adjust=\"BH\")"
   ]
  },
  {
   "cell_type": "code",
   "execution_count": null,
   "id": "9ab4df28",
   "metadata": {
    "vscode": {
     "languageId": "r"
    }
   },
   "outputs": [
    {
     "data": {
      "image/png": "[encoded data removed]",
      "text/plain": [
       "plot without title"
      ]
     },
     "metadata": {
      "image/png": {
       "height": 420,
       "width": 420
      }
     },
     "output_type": "display_data"
    }
   ],
   "source": [
    "\n",
    "op <- par(bg = \"white\")\n",
    "\n",
    "# Simple volcano plot to get an overview of differential methylation\n",
    "plot(myDiff$meth.diff, -log10(myDiff$qvalue))\n",
    "abline(v=0)\n",
    "\n",
    "par(op)\n"
   ]
  },
  {
   "cell_type": "code",
   "execution_count": 110,
   "id": "e88617dd",
   "metadata": {
    "vscode": {
     "languageId": "r"
    }
   },
   "outputs": [
    {
     "data": {
      "text/html": [
       "<table class=\"dataframe\">\n",
       "<caption>A methylBase: 6 × 16</caption>\n",
       "<thead>\n",
       "\t<tr><th></th><th scope=col>chr</th><th scope=col>start</th><th scope=col>end</th><th scope=col>strand</th><th scope=col>coverage1</th><th scope=col>numCs1</th><th scope=col>numTs1</th><th scope=col>coverage2</th><th scope=col>numCs2</th><th scope=col>numTs2</th><th scope=col>coverage3</th><th scope=col>numCs3</th><th scope=col>numTs3</th><th scope=col>coverage4</th><th scope=col>numCs4</th><th scope=col>numTs4</th></tr>\n",
       "\t<tr><th></th><th scope=col>&lt;chr&gt;</th><th scope=col>&lt;int&gt;</th><th scope=col>&lt;int&gt;</th><th scope=col>&lt;chr&gt;</th><th scope=col>&lt;dbl&gt;</th><th scope=col>&lt;dbl&gt;</th><th scope=col>&lt;dbl&gt;</th><th scope=col>&lt;dbl&gt;</th><th scope=col>&lt;dbl&gt;</th><th scope=col>&lt;dbl&gt;</th><th scope=col>&lt;dbl&gt;</th><th scope=col>&lt;dbl&gt;</th><th scope=col>&lt;dbl&gt;</th><th scope=col>&lt;dbl&gt;</th><th scope=col>&lt;dbl&gt;</th><th scope=col>&lt;dbl&gt;</th></tr>\n",
       "</thead>\n",
       "<tbody>\n",
       "\t<tr><th scope=row>2</th><td>chr1</td><td>3020725</td><td>3020725</td><td>*</td><td>37</td><td>37</td><td> 0</td><td> 49</td><td>47</td><td> 2</td><td>19</td><td>19</td><td> 0</td><td>30</td><td>29</td><td> 1</td></tr>\n",
       "\t<tr><th scope=row>3</th><td>chr1</td><td>3045300</td><td>3045300</td><td>*</td><td>59</td><td>16</td><td>43</td><td> 42</td><td>19</td><td>23</td><td>26</td><td>12</td><td>14</td><td>23</td><td>14</td><td> 9</td></tr>\n",
       "\t<tr><th scope=row>4</th><td>chr1</td><td>3045307</td><td>3045307</td><td>*</td><td>59</td><td>50</td><td> 9</td><td> 42</td><td>27</td><td>15</td><td>26</td><td>22</td><td> 4</td><td>23</td><td>19</td><td> 4</td></tr>\n",
       "\t<tr><th scope=row>5</th><td>chr1</td><td>3059415</td><td>3059415</td><td>*</td><td>67</td><td>55</td><td>12</td><td>103</td><td>75</td><td>28</td><td>58</td><td>48</td><td>10</td><td>66</td><td>50</td><td>16</td></tr>\n",
       "\t<tr><th scope=row>7</th><td>chr1</td><td>3059436</td><td>3059436</td><td>*</td><td>67</td><td>45</td><td>22</td><td>103</td><td>62</td><td>41</td><td>58</td><td>39</td><td>19</td><td>66</td><td>38</td><td>28</td></tr>\n",
       "\t<tr><th scope=row>8</th><td>chr1</td><td>3059574</td><td>3059574</td><td>*</td><td>65</td><td>59</td><td> 6</td><td>101</td><td>93</td><td> 8</td><td>52</td><td>43</td><td> 9</td><td>65</td><td>59</td><td> 6</td></tr>\n",
       "</tbody>\n",
       "</table>\n"
      ],
      "text/latex": [
       "A methylBase: 6 × 16\n",
       "\\begin{tabular}{r|llllllllllllllll}\n",
       "  & chr & start & end & strand & coverage1 & numCs1 & numTs1 & coverage2 & numCs2 & numTs2 & coverage3 & numCs3 & numTs3 & coverage4 & numCs4 & numTs4\\\\\n",
       "  & <chr> & <int> & <int> & <chr> & <dbl> & <dbl> & <dbl> & <dbl> & <dbl> & <dbl> & <dbl> & <dbl> & <dbl> & <dbl> & <dbl> & <dbl>\\\\\n",
       "\\hline\n",
       "\t2 & chr1 & 3020725 & 3020725 & * & 37 & 37 &  0 &  49 & 47 &  2 & 19 & 19 &  0 & 30 & 29 &  1\\\\\n",
       "\t3 & chr1 & 3045300 & 3045300 & * & 59 & 16 & 43 &  42 & 19 & 23 & 26 & 12 & 14 & 23 & 14 &  9\\\\\n",
       "\t4 & chr1 & 3045307 & 3045307 & * & 59 & 50 &  9 &  42 & 27 & 15 & 26 & 22 &  4 & 23 & 19 &  4\\\\\n",
       "\t5 & chr1 & 3059415 & 3059415 & * & 67 & 55 & 12 & 103 & 75 & 28 & 58 & 48 & 10 & 66 & 50 & 16\\\\\n",
       "\t7 & chr1 & 3059436 & 3059436 & * & 67 & 45 & 22 & 103 & 62 & 41 & 58 & 39 & 19 & 66 & 38 & 28\\\\\n",
       "\t8 & chr1 & 3059574 & 3059574 & * & 65 & 59 &  6 & 101 & 93 &  8 & 52 & 43 &  9 & 65 & 59 &  6\\\\\n",
       "\\end{tabular}\n"
      ],
      "text/markdown": [
       "\n",
       "A methylBase: 6 × 16\n",
       "\n",
       "| <!--/--> | chr &lt;chr&gt; | start &lt;int&gt; | end &lt;int&gt; | strand &lt;chr&gt; | coverage1 &lt;dbl&gt; | numCs1 &lt;dbl&gt; | numTs1 &lt;dbl&gt; | coverage2 &lt;dbl&gt; | numCs2 &lt;dbl&gt; | numTs2 &lt;dbl&gt; | coverage3 &lt;dbl&gt; | numCs3 &lt;dbl&gt; | numTs3 &lt;dbl&gt; | coverage4 &lt;dbl&gt; | numCs4 &lt;dbl&gt; | numTs4 &lt;dbl&gt; |\n",
       "|---|---|---|---|---|---|---|---|---|---|---|---|---|---|---|---|---|\n",
       "| 2 | chr1 | 3020725 | 3020725 | * | 37 | 37 |  0 |  49 | 47 |  2 | 19 | 19 |  0 | 30 | 29 |  1 |\n",
       "| 3 | chr1 | 3045300 | 3045300 | * | 59 | 16 | 43 |  42 | 19 | 23 | 26 | 12 | 14 | 23 | 14 |  9 |\n",
       "| 4 | chr1 | 3045307 | 3045307 | * | 59 | 50 |  9 |  42 | 27 | 15 | 26 | 22 |  4 | 23 | 19 |  4 |\n",
       "| 5 | chr1 | 3059415 | 3059415 | * | 67 | 55 | 12 | 103 | 75 | 28 | 58 | 48 | 10 | 66 | 50 | 16 |\n",
       "| 7 | chr1 | 3059436 | 3059436 | * | 67 | 45 | 22 | 103 | 62 | 41 | 58 | 39 | 19 | 66 | 38 | 28 |\n",
       "| 8 | chr1 | 3059574 | 3059574 | * | 65 | 59 |  6 | 101 | 93 |  8 | 52 | 43 |  9 | 65 | 59 |  6 |\n",
       "\n"
      ],
      "text/plain": [
       "  chr  start   end     strand coverage1 numCs1 numTs1 coverage2 numCs2 numTs2\n",
       "2 chr1 3020725 3020725 *      37        37      0      49       47      2    \n",
       "3 chr1 3045300 3045300 *      59        16     43      42       19     23    \n",
       "4 chr1 3045307 3045307 *      59        50      9      42       27     15    \n",
       "5 chr1 3059415 3059415 *      67        55     12     103       75     28    \n",
       "7 chr1 3059436 3059436 *      67        45     22     103       62     41    \n",
       "8 chr1 3059574 3059574 *      65        59      6     101       93      8    \n",
       "  coverage3 numCs3 numTs3 coverage4 numCs4 numTs4\n",
       "2 19        19      0     30        29      1    \n",
       "3 26        12     14     23        14      9    \n",
       "4 26        22      4     23        19      4    \n",
       "5 58        48     10     66        50     16    \n",
       "7 58        39     19     66        38     28    \n",
       "8 52        43      9     65        59      6    "
      ]
     },
     "metadata": {},
     "output_type": "display_data"
    }
   ],
   "source": [
    "head(meth)"
   ]
  },
  {
   "cell_type": "code",
   "execution_count": 107,
   "id": "8ef4bdb9",
   "metadata": {
    "vscode": {
     "languageId": "r"
    }
   },
   "outputs": [
    {
     "data": {
      "image/png": "[encoded data removed]",
      "text/plain": [
       "Plot with title \"Volcano Plot of Differential Methylation\""
      ]
     },
     "metadata": {
      "image/png": {
       "height": 420,
       "width": 420
      }
     },
     "output_type": "display_data"
    }
   ],
   "source": [
    "op <- par(bg = \"white\")\n",
    "\n",
    "# Volcano plot\n",
    "plot(myDiff$meth.diff, -log10(myDiff$qvalue),\n",
    "     xlab = \"Methylation Difference (%)\", \n",
    "     ylab = \"-log10(Adjusted P-Value)\",\n",
    "     main = \"Volcano Plot of Differential Methylation\")\n",
    "\n",
    "# lines showing +/- 25% difference and p-value <0.01 significance (h= 2 which is -10 log(0.01))\n",
    "abline(v = c(-25, 25), col = \"red\", lty = 5)  # vertical lines for ±25% difference\n",
    "abline(h = 2, col = \"red\", lty = 5)  # horizontal line for adj. p-value <0.01\n",
    "\n",
    "par(op)\n"
   ]
  },
  {
   "cell_type": "markdown",
   "id": "c8ae3820",
   "metadata": {},
   "source": [
    "### Answer Q6: Volcano plot\n",
    "\n",
    "#### **Create a Volcano Plot which indicates significantlly differentially methylated data (adj. p-value <0.01, difference > abs(+/-25))**\n",
    "\n",
    "<img src=\"volcano_plot.png\" alt=\"Volcano Plot\" width=\"350\">\n",
    "\n",
    "##### Interpretation\n",
    "\n",
    "- The x-axis on the volcano plot represents the % difference in methylation between our basal (test) and luminal (control) samples. Positive values on the x-axis mean more CpG sites were methylated in basal compared to luminal while negative values mean CpG sites were less methylated in basal compared to luminal.\n",
    "\n",
    "- The y-axis plots the statistical significance of the methylation difference (the p-value). Because the p-value is transformed with -lo10(p-value), lower p-values (higher significance) appear higher on the y-axis while higher p-values (lower significance) appear closer to 0 on the y-axis.\n",
    "\n",
    "- Points that are clustered around 0 +/- 25% (between the red lines on x-axis) and under the p-value limit of 0.01 (under the red line on y-axis) are not biologically and statistically significant. +/-25% is not enough of a difference in methylation to signify any biological relevance and a p-value above 0.01 shows low statistical significance (although we could adjust this threshold depending on the analysis).\n",
    "\n",
    "- Those points that are on the far left or far right (on the x-axis) show a high difference in methylation. The higher these points are on the y-axis, the more statistically significant is the methylation difference between the 2 samples. "
   ]
  },
  {
   "cell_type": "markdown",
   "id": "188cfd5e",
   "metadata": {},
   "source": [
    "<code style=\"background:steelblue\">                                                                                                              </code>\n",
    "\n",
    "\n",
    "Next, visualize the number of hyper- and hypomethylation events per chromosome, as a percent of the sites with minimum coverage and minimal differential methylation. By default this is a 25% change in methylation and all samples with 10X coverage.\n",
    "\n",
    "---"
   ]
  },
  {
   "cell_type": "code",
   "execution_count": 77,
   "id": "91aef506",
   "metadata": {
    "vscode": {
     "languageId": "r"
    }
   },
   "outputs": [
    {
     "name": "stderr",
     "output_type": "stream",
     "text": [
      "Warning message in eval(quote(list(...)), env):\n",
      "\"NAs introduced by coercion\"\n"
     ]
    },
    {
     "data": {
      "image/png": "[encoded data removed]",
      "text/plain": [
       "Plot with title \"% of hyper & hypo methylated regions per chromosome\""
      ]
     },
     "metadata": {
      "image/png": {
       "height": 420,
       "width": 420
      }
     },
     "output_type": "display_data"
    }
   ],
   "source": [
    "# Overview of percentage hyper and hypo CpGs per chromosome.\n",
    "op <- par(bg = \"white\")\n",
    "\n",
    "diffMethPerChr(myDiff)\n",
    "\n",
    "par(op)"
   ]
  },
  {
   "cell_type": "markdown",
   "id": "4abeafef",
   "metadata": {},
   "source": [
    "<code style=\"background:steelblue\">                                                                                                              </code>\n",
    "\n",
    "After q-value calculation, we can select the differentially methylated regions/bases based on q-value and percent methylation difference cutoffs of Treatment versus control. Following bits of code selects the bases that have q-value < 0.01 and percent methylation difference larger than 25%. If you specify type=\"hyper\" or type=\"hypo\" options, you will extract the hyper-methylated or hypo-methylated regions/bases.\n",
    "\n",
    "\n",
    "---"
   ]
  },
  {
   "cell_type": "code",
   "execution_count": null,
   "id": "901d546c",
   "metadata": {
    "vscode": {
     "languageId": "r"
    }
   },
   "outputs": [],
   "source": [
    "# get hyper methylated bases and order by qvalue # qvalue is p value, 25 is 25%\n",
    "myDiff25p.hyper <- getMethylDiff(myDiff,\n",
    "                              difference=25,\n",
    "                              qvalue=0.01,\n",
    "                              type=\"hyper\")\n",
    "myDiff25p.hyper <- myDiff25p.hyper[order(myDiff25p.hyper$qvalue),]\n",
    "\n",
    "# get hypo methylated bases and order by qvalue\n",
    "myDiff25p.hypo <- getMethylDiff(myDiff,\n",
    "                             difference=25,\n",
    "                             qvalue=0.01,\n",
    "                             type=\"hypo\")\n",
    "myDiff25p.hypo <- myDiff25p.hypo[order(myDiff25p.hypo$qvalue),]\n",
    "\n",
    "# get all differentially methylated bases and order by qvalue\n",
    "myDiff25p <- getMethylDiff(myDiff,\n",
    "                        difference=25,\n",
    "                        qvalue=0.01)\n",
    "myDiff25p <- myDiff25p[order(myDiff25p$qvalue),]\n",
    "\n",
    "# myDiff25p"
   ]
  },
  {
   "cell_type": "markdown",
   "id": "92d3519c",
   "metadata": {},
   "source": [
    "<code style=\"background:steelblue\">                                                                                                              </code>\n",
    "\n",
    "\n",
    "### CpG Annotation\n",
    "\n",
    "To help with the biological interpretation of the data, we will annotate the differentially methylated regions/bases using the genomation package. The most common annotation task is to see where CpGs of interest land in relation to genes and gene parts and regulatory regions: Do they mostly occupy promoter, intronic or exonic regions? Do they overlap with repeats? Do they overlap with other epigenomic markers or long-range regulatory regions? In this example, we read the gene annotation information from a BED file (Browser Extensible Data - file format containing genome coordinates and associated annotations) and annotate our differentially methylated regions with that information using genomation functions.\n",
    "\n",
    "The annotation files that are provided are:\n",
    "\n",
    "* Gene information: mm10_Refseq_genes.bed\n",
    "* CpG island information: mm10_cpg.bed\n",
    "\n",
    "The function creates an AnnotationByGeneParts object, containing - for each target CpG - data such as the nearest transcription start site and the genomic structure it is located on. Several accessor functions from the genomation package allow for interaction with such an object.\n",
    "\n",
    "\n",
    "---\n",
    "\n"
   ]
  },
  {
   "cell_type": "code",
   "execution_count": 80,
   "id": "c6ce7c48",
   "metadata": {
    "vscode": {
     "languageId": "r"
    }
   },
   "outputs": [
    {
     "name": "stderr",
     "output_type": "stream",
     "text": [
      "Reading the table...\n",
      "\n",
      "Calculating intron coordinates...\n",
      "\n",
      "Calculating exon coordinates...\n",
      "\n",
      "Calculating TSS coordinates...\n",
      "\n",
      "Calculating promoter coordinates...\n",
      "\n",
      "Outputting the final GRangesList...\n",
      "\n",
      "\n",
      "Summary of target set annotation with genic parts\n",
      "\n",
      "Rows in target set: 7766\n",
      "\n",
      "-----------------------\n",
      "\n",
      "percentage of target features overlapping with annotation:\n",
      "\n",
      "\n",
      "\n",
      "percentage of target features overlapping with annotation:\n",
      "\n",
      "(with promoter > exon > intron precedence):\n",
      "\n",
      "\n",
      "\n",
      "percentage of annotation boundaries with feature overlap:\n",
      "\n",
      "\n",
      "\n",
      "summary of distances to the nearest TSS:\n",
      "\n",
      "\n",
      "\n"
     ]
    },
    {
     "data": {
      "text/plain": [
       "  promoter       exon     intron intergenic \n",
       "     10.91      19.06      52.77      31.46 \n",
       "  promoter       exon     intron intergenic \n",
       "     10.91      14.51      43.12      31.46 \n",
       "promoter     exon   intron \n",
       "    1.24     0.35     1.35 \n",
       "   Min. 1st Qu.  Median    Mean 3rd Qu.    Max. \n",
       "      0    3642   11489   24772   28552  883745 "
      ]
     },
     "metadata": {},
     "output_type": "display_data"
    }
   ],
   "source": [
    "# First load the annotation data; i.e the coordinates of promoters, TSS, intron and exons\n",
    "refseq_anot <- readTranscriptFeatures(\"data/mm10_Refseq_genes.bed\")\n",
    "\n",
    "# Annotate hypermethylated CpGs (\"target\") with promoter/exon/intron\n",
    "# information (\"feature\"). This function operates on GRanges objects, so we # first coerce the methylKit object to GRanges.\n",
    "myDiff25p.hyper.anot <- annotateWithGeneParts(target = as(myDiff25p.hyper,\"GRanges\"),\n",
    "                                              feature = refseq_anot)\n",
    "\n",
    "# Summary of target set annotation\n",
    "myDiff25p.hyper.anot"
   ]
  },
  {
   "cell_type": "code",
   "execution_count": 81,
   "id": "f29a6c74",
   "metadata": {
    "vscode": {
     "languageId": "r"
    }
   },
   "outputs": [
    {
     "data": {
      "text/html": [
       "<table class=\"dataframe\">\n",
       "<caption>A data.frame: 6 × 4</caption>\n",
       "<thead>\n",
       "\t<tr><th></th><th scope=col>target.row</th><th scope=col>dist.to.feature</th><th scope=col>feature.name</th><th scope=col>feature.strand</th></tr>\n",
       "\t<tr><th></th><th scope=col>&lt;int&gt;</th><th scope=col>&lt;dbl&gt;</th><th scope=col>&lt;chr&gt;</th><th scope=col>&lt;fct&gt;</th></tr>\n",
       "</thead>\n",
       "<tbody>\n",
       "\t<tr><th scope=row>2129</th><td>1</td><td> 10081</td><td>NM_027211.2   </td><td>-</td></tr>\n",
       "\t<tr><th scope=row>4842</th><td>2</td><td>-49526</td><td>XR_376017.4   </td><td>+</td></tr>\n",
       "\t<tr><th scope=row>1578</th><td>3</td><td> 50089</td><td>XR_380751.2   </td><td>-</td></tr>\n",
       "\t<tr><th scope=row>4210</th><td>4</td><td>-13832</td><td>XM_006523957.4</td><td>-</td></tr>\n",
       "\t<tr><th scope=row>2635</th><td>5</td><td> -3489</td><td>NM_011117.2   </td><td>-</td></tr>\n",
       "\t<tr><th scope=row>44051</th><td>6</td><td> 19724</td><td>XM_030253566.1</td><td>+</td></tr>\n",
       "</tbody>\n",
       "</table>\n"
      ],
      "text/latex": [
       "A data.frame: 6 × 4\n",
       "\\begin{tabular}{r|llll}\n",
       "  & target.row & dist.to.feature & feature.name & feature.strand\\\\\n",
       "  & <int> & <dbl> & <chr> & <fct>\\\\\n",
       "\\hline\n",
       "\t2129 & 1 &  10081 & NM\\_027211.2    & -\\\\\n",
       "\t4842 & 2 & -49526 & XR\\_376017.4    & +\\\\\n",
       "\t1578 & 3 &  50089 & XR\\_380751.2    & -\\\\\n",
       "\t4210 & 4 & -13832 & XM\\_006523957.4 & -\\\\\n",
       "\t2635 & 5 &  -3489 & NM\\_011117.2    & -\\\\\n",
       "\t44051 & 6 &  19724 & XM\\_030253566.1 & +\\\\\n",
       "\\end{tabular}\n"
      ],
      "text/markdown": [
       "\n",
       "A data.frame: 6 × 4\n",
       "\n",
       "| <!--/--> | target.row &lt;int&gt; | dist.to.feature &lt;dbl&gt; | feature.name &lt;chr&gt; | feature.strand &lt;fct&gt; |\n",
       "|---|---|---|---|---|\n",
       "| 2129 | 1 |  10081 | NM_027211.2    | - |\n",
       "| 4842 | 2 | -49526 | XR_376017.4    | + |\n",
       "| 1578 | 3 |  50089 | XR_380751.2    | - |\n",
       "| 4210 | 4 | -13832 | XM_006523957.4 | - |\n",
       "| 2635 | 5 |  -3489 | NM_011117.2    | - |\n",
       "| 44051 | 6 |  19724 | XM_030253566.1 | + |\n",
       "\n"
      ],
      "text/plain": [
       "      target.row dist.to.feature feature.name   feature.strand\n",
       "2129  1           10081          NM_027211.2    -             \n",
       "4842  2          -49526          XR_376017.4    +             \n",
       "1578  3           50089          XR_380751.2    -             \n",
       "4210  4          -13832          XM_006523957.4 -             \n",
       "2635  5           -3489          NM_011117.2    -             \n",
       "44051 6           19724          XM_030253566.1 +             "
      ]
     },
     "metadata": {},
     "output_type": "display_data"
    },
    {
     "data": {
      "text/html": [
       "<table class=\"dataframe\">\n",
       "<caption>A matrix: 7766 × 3 of type dbl</caption>\n",
       "<thead>\n",
       "\t<tr><th scope=col>prom</th><th scope=col>exon</th><th scope=col>intron</th></tr>\n",
       "</thead>\n",
       "<tbody>\n",
       "\t<tr><td>0</td><td>0</td><td>1</td></tr>\n",
       "\t<tr><td>0</td><td>0</td><td>1</td></tr>\n",
       "\t<tr><td>0</td><td>0</td><td>1</td></tr>\n",
       "\t<tr><td>0</td><td>0</td><td>1</td></tr>\n",
       "\t<tr><td>0</td><td>0</td><td>1</td></tr>\n",
       "\t<tr><td>0</td><td>0</td><td>0</td></tr>\n",
       "\t<tr><td>0</td><td>0</td><td>1</td></tr>\n",
       "\t<tr><td>0</td><td>0</td><td>1</td></tr>\n",
       "\t<tr><td>0</td><td>0</td><td>0</td></tr>\n",
       "\t<tr><td>0</td><td>1</td><td>0</td></tr>\n",
       "\t<tr><td>0</td><td>1</td><td>0</td></tr>\n",
       "\t<tr><td>0</td><td>0</td><td>1</td></tr>\n",
       "\t<tr><td>0</td><td>0</td><td>1</td></tr>\n",
       "\t<tr><td>1</td><td>0</td><td>1</td></tr>\n",
       "\t<tr><td>0</td><td>0</td><td>1</td></tr>\n",
       "\t<tr><td>0</td><td>0</td><td>1</td></tr>\n",
       "\t<tr><td>0</td><td>0</td><td>0</td></tr>\n",
       "\t<tr><td>0</td><td>0</td><td>0</td></tr>\n",
       "\t<tr><td>0</td><td>1</td><td>1</td></tr>\n",
       "\t<tr><td>0</td><td>0</td><td>1</td></tr>\n",
       "\t<tr><td>0</td><td>0</td><td>1</td></tr>\n",
       "\t<tr><td>0</td><td>1</td><td>0</td></tr>\n",
       "\t<tr><td>0</td><td>0</td><td>1</td></tr>\n",
       "\t<tr><td>0</td><td>0</td><td>1</td></tr>\n",
       "\t<tr><td>0</td><td>0</td><td>1</td></tr>\n",
       "\t<tr><td>0</td><td>0</td><td>0</td></tr>\n",
       "\t<tr><td>0</td><td>0</td><td>1</td></tr>\n",
       "\t<tr><td>0</td><td>0</td><td>0</td></tr>\n",
       "\t<tr><td>0</td><td>0</td><td>1</td></tr>\n",
       "\t<tr><td>0</td><td>0</td><td>1</td></tr>\n",
       "\t<tr><td>⋮</td><td>⋮</td><td>⋮</td></tr>\n",
       "\t<tr><td>1</td><td>0</td><td>1</td></tr>\n",
       "\t<tr><td>0</td><td>0</td><td>1</td></tr>\n",
       "\t<tr><td>0</td><td>0</td><td>1</td></tr>\n",
       "\t<tr><td>0</td><td>0</td><td>0</td></tr>\n",
       "\t<tr><td>0</td><td>0</td><td>0</td></tr>\n",
       "\t<tr><td>1</td><td>1</td><td>0</td></tr>\n",
       "\t<tr><td>0</td><td>0</td><td>1</td></tr>\n",
       "\t<tr><td>0</td><td>0</td><td>1</td></tr>\n",
       "\t<tr><td>0</td><td>0</td><td>1</td></tr>\n",
       "\t<tr><td>0</td><td>1</td><td>1</td></tr>\n",
       "\t<tr><td>0</td><td>0</td><td>1</td></tr>\n",
       "\t<tr><td>0</td><td>0</td><td>1</td></tr>\n",
       "\t<tr><td>0</td><td>0</td><td>0</td></tr>\n",
       "\t<tr><td>0</td><td>0</td><td>0</td></tr>\n",
       "\t<tr><td>0</td><td>0</td><td>1</td></tr>\n",
       "\t<tr><td>0</td><td>0</td><td>0</td></tr>\n",
       "\t<tr><td>0</td><td>0</td><td>1</td></tr>\n",
       "\t<tr><td>0</td><td>0</td><td>1</td></tr>\n",
       "\t<tr><td>0</td><td>0</td><td>1</td></tr>\n",
       "\t<tr><td>0</td><td>1</td><td>0</td></tr>\n",
       "\t<tr><td>0</td><td>0</td><td>0</td></tr>\n",
       "\t<tr><td>0</td><td>0</td><td>0</td></tr>\n",
       "\t<tr><td>0</td><td>0</td><td>0</td></tr>\n",
       "\t<tr><td>0</td><td>1</td><td>0</td></tr>\n",
       "\t<tr><td>0</td><td>0</td><td>1</td></tr>\n",
       "\t<tr><td>0</td><td>0</td><td>1</td></tr>\n",
       "\t<tr><td>0</td><td>0</td><td>1</td></tr>\n",
       "\t<tr><td>0</td><td>0</td><td>0</td></tr>\n",
       "\t<tr><td>0</td><td>0</td><td>1</td></tr>\n",
       "\t<tr><td>1</td><td>1</td><td>0</td></tr>\n",
       "</tbody>\n",
       "</table>\n"
      ],
      "text/latex": [
       "A matrix: 7766 × 3 of type dbl\n",
       "\\begin{tabular}{lll}\n",
       " prom & exon & intron\\\\\n",
       "\\hline\n",
       "\t 0 & 0 & 1\\\\\n",
       "\t 0 & 0 & 1\\\\\n",
       "\t 0 & 0 & 1\\\\\n",
       "\t 0 & 0 & 1\\\\\n",
       "\t 0 & 0 & 1\\\\\n",
       "\t 0 & 0 & 0\\\\\n",
       "\t 0 & 0 & 1\\\\\n",
       "\t 0 & 0 & 1\\\\\n",
       "\t 0 & 0 & 0\\\\\n",
       "\t 0 & 1 & 0\\\\\n",
       "\t 0 & 1 & 0\\\\\n",
       "\t 0 & 0 & 1\\\\\n",
       "\t 0 & 0 & 1\\\\\n",
       "\t 1 & 0 & 1\\\\\n",
       "\t 0 & 0 & 1\\\\\n",
       "\t 0 & 0 & 1\\\\\n",
       "\t 0 & 0 & 0\\\\\n",
       "\t 0 & 0 & 0\\\\\n",
       "\t 0 & 1 & 1\\\\\n",
       "\t 0 & 0 & 1\\\\\n",
       "\t 0 & 0 & 1\\\\\n",
       "\t 0 & 1 & 0\\\\\n",
       "\t 0 & 0 & 1\\\\\n",
       "\t 0 & 0 & 1\\\\\n",
       "\t 0 & 0 & 1\\\\\n",
       "\t 0 & 0 & 0\\\\\n",
       "\t 0 & 0 & 1\\\\\n",
       "\t 0 & 0 & 0\\\\\n",
       "\t 0 & 0 & 1\\\\\n",
       "\t 0 & 0 & 1\\\\\n",
       "\t ⋮ & ⋮ & ⋮\\\\\n",
       "\t 1 & 0 & 1\\\\\n",
       "\t 0 & 0 & 1\\\\\n",
       "\t 0 & 0 & 1\\\\\n",
       "\t 0 & 0 & 0\\\\\n",
       "\t 0 & 0 & 0\\\\\n",
       "\t 1 & 1 & 0\\\\\n",
       "\t 0 & 0 & 1\\\\\n",
       "\t 0 & 0 & 1\\\\\n",
       "\t 0 & 0 & 1\\\\\n",
       "\t 0 & 1 & 1\\\\\n",
       "\t 0 & 0 & 1\\\\\n",
       "\t 0 & 0 & 1\\\\\n",
       "\t 0 & 0 & 0\\\\\n",
       "\t 0 & 0 & 0\\\\\n",
       "\t 0 & 0 & 1\\\\\n",
       "\t 0 & 0 & 0\\\\\n",
       "\t 0 & 0 & 1\\\\\n",
       "\t 0 & 0 & 1\\\\\n",
       "\t 0 & 0 & 1\\\\\n",
       "\t 0 & 1 & 0\\\\\n",
       "\t 0 & 0 & 0\\\\\n",
       "\t 0 & 0 & 0\\\\\n",
       "\t 0 & 0 & 0\\\\\n",
       "\t 0 & 1 & 0\\\\\n",
       "\t 0 & 0 & 1\\\\\n",
       "\t 0 & 0 & 1\\\\\n",
       "\t 0 & 0 & 1\\\\\n",
       "\t 0 & 0 & 0\\\\\n",
       "\t 0 & 0 & 1\\\\\n",
       "\t 1 & 1 & 0\\\\\n",
       "\\end{tabular}\n"
      ],
      "text/markdown": [
       "\n",
       "A matrix: 7766 × 3 of type dbl\n",
       "\n",
       "| prom | exon | intron |\n",
       "|---|---|---|\n",
       "| 0 | 0 | 1 |\n",
       "| 0 | 0 | 1 |\n",
       "| 0 | 0 | 1 |\n",
       "| 0 | 0 | 1 |\n",
       "| 0 | 0 | 1 |\n",
       "| 0 | 0 | 0 |\n",
       "| 0 | 0 | 1 |\n",
       "| 0 | 0 | 1 |\n",
       "| 0 | 0 | 0 |\n",
       "| 0 | 1 | 0 |\n",
       "| 0 | 1 | 0 |\n",
       "| 0 | 0 | 1 |\n",
       "| 0 | 0 | 1 |\n",
       "| 1 | 0 | 1 |\n",
       "| 0 | 0 | 1 |\n",
       "| 0 | 0 | 1 |\n",
       "| 0 | 0 | 0 |\n",
       "| 0 | 0 | 0 |\n",
       "| 0 | 1 | 1 |\n",
       "| 0 | 0 | 1 |\n",
       "| 0 | 0 | 1 |\n",
       "| 0 | 1 | 0 |\n",
       "| 0 | 0 | 1 |\n",
       "| 0 | 0 | 1 |\n",
       "| 0 | 0 | 1 |\n",
       "| 0 | 0 | 0 |\n",
       "| 0 | 0 | 1 |\n",
       "| 0 | 0 | 0 |\n",
       "| 0 | 0 | 1 |\n",
       "| 0 | 0 | 1 |\n",
       "| ⋮ | ⋮ | ⋮ |\n",
       "| 1 | 0 | 1 |\n",
       "| 0 | 0 | 1 |\n",
       "| 0 | 0 | 1 |\n",
       "| 0 | 0 | 0 |\n",
       "| 0 | 0 | 0 |\n",
       "| 1 | 1 | 0 |\n",
       "| 0 | 0 | 1 |\n",
       "| 0 | 0 | 1 |\n",
       "| 0 | 0 | 1 |\n",
       "| 0 | 1 | 1 |\n",
       "| 0 | 0 | 1 |\n",
       "| 0 | 0 | 1 |\n",
       "| 0 | 0 | 0 |\n",
       "| 0 | 0 | 0 |\n",
       "| 0 | 0 | 1 |\n",
       "| 0 | 0 | 0 |\n",
       "| 0 | 0 | 1 |\n",
       "| 0 | 0 | 1 |\n",
       "| 0 | 0 | 1 |\n",
       "| 0 | 1 | 0 |\n",
       "| 0 | 0 | 0 |\n",
       "| 0 | 0 | 0 |\n",
       "| 0 | 0 | 0 |\n",
       "| 0 | 1 | 0 |\n",
       "| 0 | 0 | 1 |\n",
       "| 0 | 0 | 1 |\n",
       "| 0 | 0 | 1 |\n",
       "| 0 | 0 | 0 |\n",
       "| 0 | 0 | 1 |\n",
       "| 1 | 1 | 0 |\n",
       "\n"
      ],
      "text/plain": [
       "      prom exon intron\n",
       " [1,] 0    0    1     \n",
       " [2,] 0    0    1     \n",
       " [3,] 0    0    1     \n",
       " [4,] 0    0    1     \n",
       " [5,] 0    0    1     \n",
       " [6,] 0    0    0     \n",
       " [7,] 0    0    1     \n",
       " [8,] 0    0    1     \n",
       " [9,] 0    0    0     \n",
       "[10,] 0    1    0     \n",
       "[11,] 0    1    0     \n",
       "[12,] 0    0    1     \n",
       "[13,] 0    0    1     \n",
       "[14,] 1    0    1     \n",
       "[15,] 0    0    1     \n",
       "[16,] 0    0    1     \n",
       "[17,] 0    0    0     \n",
       "[18,] 0    0    0     \n",
       "[19,] 0    1    1     \n",
       "[20,] 0    0    1     \n",
       "[21,] 0    0    1     \n",
       "[22,] 0    1    0     \n",
       "[23,] 0    0    1     \n",
       "[24,] 0    0    1     \n",
       "[25,] 0    0    1     \n",
       "[26,] 0    0    0     \n",
       "[27,] 0    0    1     \n",
       "[28,] 0    0    0     \n",
       "[29,] 0    0    1     \n",
       "[30,] 0    0    1     \n",
       "[31,] ⋮    ⋮    ⋮     \n",
       "[32,] 1    0    1     \n",
       "[33,] 0    0    1     \n",
       "[34,] 0    0    1     \n",
       "[35,] 0    0    0     \n",
       "[36,] 0    0    0     \n",
       "[37,] 1    1    0     \n",
       "[38,] 0    0    1     \n",
       "[39,] 0    0    1     \n",
       "[40,] 0    0    1     \n",
       "[41,] 0    1    1     \n",
       "[42,] 0    0    1     \n",
       "[43,] 0    0    1     \n",
       "[44,] 0    0    0     \n",
       "[45,] 0    0    0     \n",
       "[46,] 0    0    1     \n",
       "[47,] 0    0    0     \n",
       "[48,] 0    0    1     \n",
       "[49,] 0    0    1     \n",
       "[50,] 0    0    1     \n",
       "[51,] 0    1    0     \n",
       "[52,] 0    0    0     \n",
       "[53,] 0    0    0     \n",
       "[54,] 0    0    0     \n",
       "[55,] 0    1    0     \n",
       "[56,] 0    0    1     \n",
       "[57,] 0    0    1     \n",
       "[58,] 0    0    1     \n",
       "[59,] 0    0    0     \n",
       "[60,] 0    0    1     \n",
       "[61,] 1    1    0     "
      ]
     },
     "metadata": {},
     "output_type": "display_data"
    }
   ],
   "source": [
    "# View the distance to the nearest Transcription Start Site; the target.row column in the output indicates the row number in the initial target set\n",
    "dist_tss <- getAssociationWithTSS(myDiff25p.hyper.anot)\n",
    "head(dist_tss)\n",
    "\n",
    "# See whether the differentially methylated CpGs are within promoters,introns or exons; the order is the same as the target set\n",
    "getMembers(myDiff25p.hyper.anot)"
   ]
  },
  {
   "cell_type": "code",
   "execution_count": 83,
   "id": "91ad39ea",
   "metadata": {
    "vscode": {
     "languageId": "r"
    }
   },
   "outputs": [
    {
     "data": {
      "image/png": "[encoded data removed]",
      "text/plain": [
       "Plot with title \"Differential Methylation Annotation\""
      ]
     },
     "metadata": {
      "image/png": {
       "height": 420,
       "width": 420
      }
     },
     "output_type": "display_data"
    }
   ],
   "source": [
    "# This can also be summarized for all differentially methylated CpGs\n",
    "op <- par(bg = \"white\")\n",
    "plotTargetAnnotation(myDiff25p.hyper.anot, main = \"Differential Methylation Annotation\")\n",
    "par(op)"
   ]
  },
  {
   "cell_type": "markdown",
   "id": "9a165958",
   "metadata": {},
   "source": [
    "<code style=\"background:steelblue\">                                                                                                              </code>\n",
    "\n",
    "\n",
    "Similarly, it is possible to annotate the differentially methylated CpGs with CpG Island membership using readFeatureFlank and annotateWithFeatureflank. Using these functions you read from a BED file with feature info (here the location of the CpG Islands) and with the flank parameter you can define a region around these features (here the “shores” are defined as 2000 bases around the Islands).\n",
    "\n",
    "---"
   ]
  },
  {
   "cell_type": "code",
   "execution_count": 85,
   "id": "7685b95e",
   "metadata": {
    "vscode": {
     "languageId": "r"
    }
   },
   "outputs": [
    {
     "data": {
      "text/html": [
       "<table class=\"dataframe\">\n",
       "<caption>A matrix: 6 × 2 of type dbl</caption>\n",
       "<thead>\n",
       "\t<tr><th scope=col>CpGi</th><th scope=col>shores</th></tr>\n",
       "</thead>\n",
       "<tbody>\n",
       "\t<tr><td>0</td><td>0</td></tr>\n",
       "\t<tr><td>0</td><td>0</td></tr>\n",
       "\t<tr><td>0</td><td>0</td></tr>\n",
       "\t<tr><td>0</td><td>0</td></tr>\n",
       "\t<tr><td>0</td><td>1</td></tr>\n",
       "\t<tr><td>0</td><td>1</td></tr>\n",
       "</tbody>\n",
       "</table>\n"
      ],
      "text/latex": [
       "A matrix: 6 × 2 of type dbl\n",
       "\\begin{tabular}{ll}\n",
       " CpGi & shores\\\\\n",
       "\\hline\n",
       "\t 0 & 0\\\\\n",
       "\t 0 & 0\\\\\n",
       "\t 0 & 0\\\\\n",
       "\t 0 & 0\\\\\n",
       "\t 0 & 1\\\\\n",
       "\t 0 & 1\\\\\n",
       "\\end{tabular}\n"
      ],
      "text/markdown": [
       "\n",
       "A matrix: 6 × 2 of type dbl\n",
       "\n",
       "| CpGi | shores |\n",
       "|---|---|\n",
       "| 0 | 0 |\n",
       "| 0 | 0 |\n",
       "| 0 | 0 |\n",
       "| 0 | 0 |\n",
       "| 0 | 1 |\n",
       "| 0 | 1 |\n",
       "\n"
      ],
      "text/plain": [
       "     CpGi shores\n",
       "[1,] 0    0     \n",
       "[2,] 0    0     \n",
       "[3,] 0    0     \n",
       "[4,] 0    0     \n",
       "[5,] 0    1     \n",
       "[6,] 0    1     "
      ]
     },
     "metadata": {},
     "output_type": "display_data"
    },
    {
     "data": {
      "image/png": "[encoded data removed]",
      "text/plain": [
       "Plot with title \"Differential Methylation Annotation\""
      ]
     },
     "metadata": {
      "image/png": {
       "height": 420,
       "width": 420
      }
     },
     "output_type": "display_data"
    }
   ],
   "source": [
    "# Load the CpG info\n",
    "cpg_anot <- readFeatureFlank(\"data/mm10_cpg.bed\", feature.flank.name = c(\"CpGi\", \"shores\"), flank=2000)\n",
    "diffCpGann <- annotateWithFeatureFlank(as(myDiff25p,\"GRanges\"), feature = cpg_anot$CpGi, flank = cpg_anot$shores, feature.name = \"CpGi\", flank.name = \"shores\")\n",
    "\n",
    "# See whether the CpG in myDiff25p belong to a CpG Island or Shore\n",
    "head(getMembers(diffCpGann))\n",
    "op <- par(bg = \"white\")\n",
    "# This can also be summarized for all differentially methylated CpGs\n",
    "plotTargetAnnotation(diffCpGann, main = \"Differential Methylation Annotation\")\n",
    "par(op)"
   ]
  },
  {
   "cell_type": "markdown",
   "id": "bd7eefb6",
   "metadata": {},
   "source": [
    "<code style=\"background:lightblue\">                                                                                                              </code>\n",
    "\n",
    "### OPTIONAL\n",
    "\n",
    "### Differentially Methylated Regions\n",
    "\n",
    "Since we are often more interested in the different methylation of multiple CpGs across samples instead of a single site, we can also summarize methylation information over a set of defined functional regions such as promoters or CpG islands. The function below summarizes the methylation information over a given set of CpG Islands and outputs a methylRaw or methylRawList object depending on the input. We are using the output of genomation functions used above to provide the locations of the Islands. For these regional summary functions, we need to provide regions of interest as GRanges object.\n",
    "\n",
    "---\n"
   ]
  },
  {
   "cell_type": "code",
   "execution_count": null,
   "id": "ad585344",
   "metadata": {
    "vscode": {
     "languageId": "r"
    }
   },
   "outputs": [],
   "source": [
    "# You can ignore the warnings here...\n",
    "suppressWarnings({\n",
    "    # Summarize the original object counts over a certain region, here the CpG Islands\n",
    "    myobj_islands <- regionCounts(myobj, cpg_anot$CpGi)\n",
    "    # Filter the summarized counts by coverage\n",
    "    myobj_islands_filt <- filterByCoverage(myobj_islands,\n",
    "                          lo.count=10,\n",
    "                          lo.perc=NULL,\n",
    "                          hi.count=NULL,\n",
    "                          hi.perc=99.9)\n",
    "    # Perform simple normalization\n",
    "    myobj_islands_filt_norm <- normalizeCoverage(myobj_islands_filt, method = \"median\")\n",
    "    # Merge the samples again\n",
    "    meth_islands <- unite(myobj_islands_filt_norm, destrand=FALSE)\n",
    "\n",
    "})"
   ]
  },
  {
   "cell_type": "code",
   "execution_count": null,
   "id": "8dd7bf62",
   "metadata": {
    "vscode": {
     "languageId": "r"
    }
   },
   "outputs": [],
   "source": [
    "# You can ignore the warnings here...\n",
    "suppressWarnings({\n",
    "    # Test for differential methylation... This might take a few minutes.\n",
    "    myDiff_islands <- calculateDiffMeth(meth_islands)\n",
    "    # Rank by significance\n",
    "    myDiff_islands <- myDiff_islands[order(myDiff_islands$qvalue),]\n",
    "    # get all differentially methylated CpG Islands\n",
    "    myDiff_islands_25p <- getMethylDiff(myDiff_islands,difference=25,qvalue=0.01)\n",
    "    })"
   ]
  },
  {
   "cell_type": "code",
   "execution_count": null,
   "id": "f87969a1",
   "metadata": {
    "vscode": {
     "languageId": "r"
    }
   },
   "outputs": [],
   "source": [
    "myDiff_islands_25p_ann <- annotateWithGeneParts(as((myDiff_islands_25p), \"GRanges\"), refseq_anot)\n",
    "# View the distance to the nearest Transcription Start Site; the target.row column indicates the row number in myDiff_islands_25p\n",
    "head(getAssociationWithTSS(myDiff_islands_25p_ann))"
   ]
  },
  {
   "cell_type": "markdown",
   "id": "c78068d1",
   "metadata": {},
   "source": [
    "<code style=\"background:lightblue\">                                                                                                              </code>\n",
    "\n",
    "### OPTIONAL\n",
    "### De-novo: Sliding Window\n",
    "\n",
    "Besides grouping by functional regions, you can also group CpGs in a sliding window along the genome for a more unbiased approach. As for the functional regions, we would start again from the original object but this time group the CpGs in a certain predefined window. After this, the usual filterByCoverage, normalizeCoverage and unite functions are used before doing calculatedDiffMeth.\n",
    "\n",
    "---"
   ]
  },
  {
   "cell_type": "code",
   "execution_count": null,
   "id": "3eb70ce2",
   "metadata": {
    "vscode": {
     "languageId": "r"
    }
   },
   "outputs": [],
   "source": [
    "# Reconstruct original object, keeping a lower coverage this time\n",
    "myobj_lowCov <- methRead(file.list,\n",
    "           sample.id=list(\"Luminal_1\",\"Luminal_2\",\"Basal_1\",\"Basal_2\"),\n",
    "           pipeline = \"bismarkCoverage\",\n",
    "           assembly=\"mm10\",\n",
    "           treatment=c(1,1,0,0),\n",
    "           mincov = 3\n",
    "           )\n",
    "\n",
    "# Group the counts\n",
    "tiles <- tileMethylCounts(myobj_lowCov,win.size=1000,step.size=1000,cov.bases = 10)\n",
    "\n",
    "# Inspect data\n",
    "head(tiles[[1]])"
   ]
  },
  {
   "cell_type": "markdown",
   "id": "04985c56",
   "metadata": {},
   "source": [
    "<code style=\"background:lightblue\">                                                                                                              </code>\n",
    "\n",
    "\n",
    "### OPTIONAL\n",
    "### Visualization\n",
    "\n",
    "The results of a differential analysis can be exported as a bedGraph; a format that allows display of continuous-valued data in track format. This display type is useful for probability scores, percentages and transcriptome data. By uploading this BED file to a genome browser such as the UCSC Genome Browser, you can create custom visualizations of the genome architecture surrounding CpGs or regions of interest. The bedgraph function produces a UCSC compatible file; by specifying the col.name the exact information to be plotted can be collected. For a methylDiff object this can be one of “pvalue”, “qvalue” or “meth.diff”.\n",
    "\n",
    "\n",
    "---\n"
   ]
  },
  {
   "cell_type": "code",
   "execution_count": null,
   "id": "1b92c0cf",
   "metadata": {
    "vscode": {
     "languageId": "r"
    }
   },
   "outputs": [],
   "source": [
    "bedgraph(myDiff25p, col.name = \"meth.diff\", file.name = \"diff_cpg_25p.bed\")"
   ]
  }
 ],
 "metadata": {
  "kernelspec": {
   "display_name": "R 4.3.1",
   "language": "R",
   "name": "ir43"
  },
  "language_info": {
   "codemirror_mode": "r",
   "file_extension": ".r",
   "mimetype": "text/x-r-source",
   "name": "R",
   "pygments_lexer": "r",
   "version": "4.4.2"
  }
 },
 "nbformat": 4,
 "nbformat_minor": 5
}
